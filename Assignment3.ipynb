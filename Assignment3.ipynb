{
 "cells": [
  {
   "cell_type": "code",
   "execution_count": 1,
   "metadata": {
    "collapsed": true
   },
   "outputs": [
    {
     "name": "stdout",
     "output_type": "stream",
     "text": [
      "Requirement already satisfied: datasets in /Users/jay/opt/anaconda3/lib/python3.9/site-packages (2.6.1)\r\n",
      "Requirement already satisfied: responses<0.19 in /Users/jay/opt/anaconda3/lib/python3.9/site-packages (from datasets) (0.18.0)\r\n",
      "Requirement already satisfied: pyarrow>=6.0.0 in /Users/jay/opt/anaconda3/lib/python3.9/site-packages (from datasets) (9.0.0)\r\n",
      "Requirement already satisfied: numpy>=1.17 in /Users/jay/opt/anaconda3/lib/python3.9/site-packages (from datasets) (1.21.5)\r\n",
      "Requirement already satisfied: multiprocess in /Users/jay/opt/anaconda3/lib/python3.9/site-packages (from datasets) (0.70.13)\r\n",
      "Requirement already satisfied: fsspec[http]>=2021.11.1 in /Users/jay/opt/anaconda3/lib/python3.9/site-packages (from datasets) (2022.2.0)\r\n",
      "Requirement already satisfied: aiohttp in /Users/jay/opt/anaconda3/lib/python3.9/site-packages (from datasets) (3.8.1)\r\n",
      "Requirement already satisfied: pandas in /Users/jay/opt/anaconda3/lib/python3.9/site-packages (from datasets) (1.4.2)\r\n",
      "Requirement already satisfied: xxhash in /Users/jay/opt/anaconda3/lib/python3.9/site-packages (from datasets) (3.1.0)\r\n",
      "Requirement already satisfied: pyyaml>=5.1 in /Users/jay/opt/anaconda3/lib/python3.9/site-packages (from datasets) (6.0)\r\n",
      "Requirement already satisfied: tqdm>=4.62.1 in /Users/jay/opt/anaconda3/lib/python3.9/site-packages (from datasets) (4.64.0)\r\n",
      "Requirement already satisfied: requests>=2.19.0 in /Users/jay/opt/anaconda3/lib/python3.9/site-packages (from datasets) (2.27.1)\r\n",
      "Requirement already satisfied: huggingface-hub<1.0.0,>=0.2.0 in /Users/jay/opt/anaconda3/lib/python3.9/site-packages (from datasets) (0.10.1)\r\n",
      "Requirement already satisfied: dill<0.3.6 in /Users/jay/opt/anaconda3/lib/python3.9/site-packages (from datasets) (0.3.5.1)\r\n",
      "Requirement already satisfied: packaging in /Users/jay/opt/anaconda3/lib/python3.9/site-packages (from datasets) (21.3)\r\n",
      "Requirement already satisfied: typing-extensions>=3.7.4.3 in /Users/jay/opt/anaconda3/lib/python3.9/site-packages (from huggingface-hub<1.0.0,>=0.2.0->datasets) (4.1.1)\r\n",
      "Requirement already satisfied: filelock in /Users/jay/opt/anaconda3/lib/python3.9/site-packages (from huggingface-hub<1.0.0,>=0.2.0->datasets) (3.6.0)\r\n",
      "Requirement already satisfied: pyparsing!=3.0.5,>=2.0.2 in /Users/jay/opt/anaconda3/lib/python3.9/site-packages (from packaging->datasets) (3.0.4)\r\n",
      "Requirement already satisfied: urllib3<1.27,>=1.21.1 in /Users/jay/opt/anaconda3/lib/python3.9/site-packages (from requests>=2.19.0->datasets) (1.26.9)\r\n",
      "Requirement already satisfied: certifi>=2017.4.17 in /Users/jay/opt/anaconda3/lib/python3.9/site-packages (from requests>=2.19.0->datasets) (2021.10.8)\r\n",
      "Requirement already satisfied: charset-normalizer~=2.0.0 in /Users/jay/opt/anaconda3/lib/python3.9/site-packages (from requests>=2.19.0->datasets) (2.0.4)\r\n",
      "Requirement already satisfied: idna<4,>=2.5 in /Users/jay/opt/anaconda3/lib/python3.9/site-packages (from requests>=2.19.0->datasets) (3.3)\r\n",
      "Requirement already satisfied: multidict<7.0,>=4.5 in /Users/jay/opt/anaconda3/lib/python3.9/site-packages (from aiohttp->datasets) (5.2.0)\r\n",
      "Requirement already satisfied: aiosignal>=1.1.2 in /Users/jay/opt/anaconda3/lib/python3.9/site-packages (from aiohttp->datasets) (1.2.0)\r\n",
      "Requirement already satisfied: async-timeout<5.0,>=4.0.0a3 in /Users/jay/opt/anaconda3/lib/python3.9/site-packages (from aiohttp->datasets) (4.0.1)\r\n",
      "Requirement already satisfied: yarl<2.0,>=1.0 in /Users/jay/opt/anaconda3/lib/python3.9/site-packages (from aiohttp->datasets) (1.6.3)\r\n",
      "Requirement already satisfied: frozenlist>=1.1.1 in /Users/jay/opt/anaconda3/lib/python3.9/site-packages (from aiohttp->datasets) (1.2.0)\r\n",
      "Requirement already satisfied: attrs>=17.3.0 in /Users/jay/opt/anaconda3/lib/python3.9/site-packages (from aiohttp->datasets) (21.4.0)\r\n",
      "Requirement already satisfied: python-dateutil>=2.8.1 in /Users/jay/opt/anaconda3/lib/python3.9/site-packages (from pandas->datasets) (2.8.2)\r\n",
      "Requirement already satisfied: pytz>=2020.1 in /Users/jay/opt/anaconda3/lib/python3.9/site-packages (from pandas->datasets) (2021.3)\r\n",
      "Requirement already satisfied: six>=1.5 in /Users/jay/opt/anaconda3/lib/python3.9/site-packages (from python-dateutil>=2.8.1->pandas->datasets) (1.16.0)\r\n"
     ]
    }
   ],
   "source": [
    "!pip install datasets\n",
    "import pandas as pd\n",
    "import matplotlib.pyplot as plt\n",
    "import seaborn as sns\n",
    "from sklearn.model_selection import train_test_split\n",
    "from sklearn.naive_bayes import GaussianNB\n",
    "from sklearn.metrics import accuracy_score, classification_report\n",
    "from sklearn.svm import LinearSVC,SVC"
   ]
  },
  {
   "cell_type": "code",
   "execution_count": 2,
   "outputs": [],
   "source": [
    "train_titanic_df = pd.read_csv(\"Dataset/train.csv\")\n",
    "test_titanic_df = pd.read_csv(\"Dataset/test.csv\")\n",
    "train_titanic_df = train_titanic_df.drop(['Ticket', 'Cabin','Name','PassengerId'], axis=1)\n",
    "test_titanic_df = test_titanic_df.drop(['Ticket', 'Cabin','Name'], axis=1)"
   ],
   "metadata": {
    "collapsed": false
   }
  },
  {
   "cell_type": "code",
   "execution_count": 3,
   "outputs": [
    {
     "name": "stdout",
     "output_type": "stream",
     "text": [
      "<class 'pandas.core.frame.DataFrame'>\n",
      "RangeIndex: 891 entries, 0 to 890\n",
      "Data columns (total 8 columns):\n",
      " #   Column    Non-Null Count  Dtype  \n",
      "---  ------    --------------  -----  \n",
      " 0   Survived  891 non-null    int64  \n",
      " 1   Pclass    891 non-null    int64  \n",
      " 2   Sex       891 non-null    object \n",
      " 3   Age       714 non-null    float64\n",
      " 4   SibSp     891 non-null    int64  \n",
      " 5   Parch     891 non-null    int64  \n",
      " 6   Fare      891 non-null    float64\n",
      " 7   Embarked  889 non-null    object \n",
      "dtypes: float64(2), int64(4), object(2)\n",
      "memory usage: 55.8+ KB\n"
     ]
    }
   ],
   "source": [
    "train_titanic_df.info()"
   ],
   "metadata": {
    "collapsed": false
   }
  },
  {
   "cell_type": "code",
   "execution_count": 4,
   "outputs": [],
   "source": [
    "genders = {\"male\": 1, \"female\": 0}\n",
    "ports = {\"S\": 0, \"C\": 1, \"Q\": 2}\n",
    "train_titanic_df['Sex'] = train_titanic_df['Sex'].map(genders)\n",
    "test_titanic_df['Sex'] = test_titanic_df['Sex'].map(genders)\n",
    "\n",
    "train_titanic_df['Embarked'] = train_titanic_df['Embarked'].map(ports)\n",
    "\n",
    "train_titanic_df['Embarked'] = test_titanic_df['Embarked'].map(ports)\n",
    "train_titanic_df['Age'] = (train_titanic_df.groupby(['SibSp', 'Parch', 'Pclass'])['Age'].transform(lambda x: x.fillna(x.median())))\n",
    "train_titanic_df = train_titanic_df[['Survived','Pclass','Sex','Age','Parch','SibSp','Fare']]\n",
    "test_titanic_df = test_titanic_df[['Pclass','Sex','Age','Parch','SibSp','Fare']]\n",
    "train_titanic_df.dropna(inplace=True)\n",
    "titanic_df = train_titanic_df\n",
    "X=titanic_df.drop(['Survived'],axis=1)\n",
    "y=titanic_df['Survived']"
   ],
   "metadata": {
    "collapsed": false
   }
  },
  {
   "cell_type": "code",
   "execution_count": 5,
   "outputs": [
    {
     "name": "stdout",
     "output_type": "stream",
     "text": [
      "<class 'pandas.core.frame.DataFrame'>\n",
      "Int64Index: 884 entries, 0 to 890\n",
      "Data columns (total 7 columns):\n",
      " #   Column    Non-Null Count  Dtype  \n",
      "---  ------    --------------  -----  \n",
      " 0   Survived  884 non-null    int64  \n",
      " 1   Pclass    884 non-null    int64  \n",
      " 2   Sex       884 non-null    int64  \n",
      " 3   Age       884 non-null    float64\n",
      " 4   Parch     884 non-null    int64  \n",
      " 5   SibSp     884 non-null    int64  \n",
      " 6   Fare      884 non-null    float64\n",
      "dtypes: float64(2), int64(5)\n",
      "memory usage: 55.2 KB\n"
     ]
    }
   ],
   "source": [
    "train_titanic_df.info()"
   ],
   "metadata": {
    "collapsed": false
   }
  },
  {
   "cell_type": "code",
   "execution_count": 6,
   "outputs": [
    {
     "data": {
      "text/plain": "array([[<AxesSubplot:title={'center':'Age'}>,\n        <AxesSubplot:title={'center':'Fare'}>],\n       [<AxesSubplot:title={'center':'Pclass'}>, <AxesSubplot:>]],\n      dtype=object)"
     },
     "execution_count": 6,
     "metadata": {},
     "output_type": "execute_result"
    },
    {
     "data": {
      "text/plain": "<Figure size 432x288 with 4 Axes>",
      "image/png": "[encoded data removed]"
     },
     "metadata": {},
     "output_type": "display_data"
    }
   ],
   "source": [
    "titanic_df.hist(['Age','Fare','Pclass'])"
   ],
   "metadata": {
    "collapsed": false
   }
  },
  {
   "cell_type": "code",
   "execution_count": 7,
   "outputs": [
    {
     "data": {
      "text/plain": "          Survived       Sex\nSurvived  1.000000 -0.548066\nSex      -0.548066  1.000000",
      "text/html": "<div>\n<style scoped>\n    .dataframe tbody tr th:only-of-type {\n        vertical-align: middle;\n    }\n\n    .dataframe tbody tr th {\n        vertical-align: top;\n    }\n\n    .dataframe thead th {\n        text-align: right;\n    }\n</style>\n<table border=\"1\" class=\"dataframe\">\n  <thead>\n    <tr style=\"text-align: right;\">\n      <th></th>\n      <th>Survived</th>\n      <th>Sex</th>\n    </tr>\n  </thead>\n  <tbody>\n    <tr>\n      <th>Survived</th>\n      <td>1.000000</td>\n      <td>-0.548066</td>\n    </tr>\n    <tr>\n      <th>Sex</th>\n      <td>-0.548066</td>\n      <td>1.000000</td>\n    </tr>\n  </tbody>\n</table>\n</div>"
     },
     "execution_count": 7,
     "metadata": {},
     "output_type": "execute_result"
    }
   ],
   "source": [
    "titanic_df[['Survived','Sex']].corr()"
   ],
   "metadata": {
    "collapsed": false
   }
  },
  {
   "cell_type": "code",
   "execution_count": 8,
   "outputs": [
    {
     "name": "stdout",
     "output_type": "stream",
     "text": [
      "   Sex  Survived\n",
      "0    0  0.749196\n",
      "1    1  0.190227\n"
     ]
    }
   ],
   "source": [
    "print(titanic_df[[\"Sex\", \"Survived\"]].groupby(['Sex'], as_index=False).mean().sort_values(by='Survived', ascending=False))"
   ],
   "metadata": {
    "collapsed": false
   }
  },
  {
   "cell_type": "markdown",
   "source": [
    "Correlation Relation Between Survived and Sex:\n",
    "\n",
    "-0.548066 - A moderate negative (downhill sloping) relationship\n",
    "The correlation is clearly seen when the Sex (Male, Female) changes the survival chances changes because, When Sex is Female , there is a high chance of Survival and vice versa\n",
    "\n",
    "Therefore, Sex is an Important Feature for the Survival chances\n"
   ],
   "metadata": {
    "collapsed": false
   }
  },
  {
   "cell_type": "code",
   "execution_count": 9,
   "outputs": [
    {
     "data": {
      "text/plain": "<Figure size 432x288 with 2 Axes>",
      "image/png": "[encoded data removed]"
     },
     "metadata": {},
     "output_type": "display_data"
    }
   ],
   "source": [
    "sns.heatmap(titanic_df.corr(), annot=True)\n",
    "plt.show()"
   ],
   "metadata": {
    "collapsed": false
   }
  },
  {
   "cell_type": "code",
   "execution_count": 10,
   "outputs": [
    {
     "name": "stderr",
     "output_type": "stream",
     "text": [
      "/Users/jay/opt/anaconda3/lib/python3.9/site-packages/seaborn/distributions.py:2619: FutureWarning: `distplot` is a deprecated function and will be removed in a future version. Please adapt your code to use either `displot` (a figure-level function with similar flexibility) or `histplot` (an axes-level function for histograms).\n",
      "  warnings.warn(msg, FutureWarning)\n"
     ]
    },
    {
     "data": {
      "text/plain": "<Figure size 720x288 with 2 Axes>",
      "image/png": "[encoded data removed]"
     },
     "metadata": {},
     "output_type": "display_data"
    }
   ],
   "source": [
    "survived = 'survived'\n",
    "not_survived = 'not survived'\n",
    "fig, axes = plt.subplots(nrows=1, ncols=2,figsize=(10, 4))\n",
    "women = titanic_df[titanic_df['Sex']==0]\n",
    "men = titanic_df[titanic_df['Sex']==1]\n",
    "ax = sns.distplot(women[women['Survived']==1].Age.dropna(), bins=18, label = survived, ax = axes[0], kde =False)\n",
    "ax = sns.distplot(women[women['Survived']==0].Age.dropna(), bins=40, label = not_survived, ax = axes[0], kde =False)\n",
    "ax.legend()\n",
    "ax.set_title('Female')\n",
    "ax = sns.distplot(men[men['Survived']==1].Age.dropna(), bins=18, label = survived, ax = axes[1], kde = False)\n",
    "ax = sns.distplot(men[men['Survived']==0].Age.dropna(), bins=40, label = not_survived, ax = axes[1], kde = False)\n",
    "ax.legend()\n",
    "_ = ax.set_title('Male')"
   ],
   "metadata": {
    "collapsed": false
   }
  },
  {
   "cell_type": "code",
   "execution_count": 11,
   "outputs": [],
   "source": [
    "X_train, X_test, y_train, y_test = train_test_split(X, y, test_size=0.25, random_state=0)\n",
    "gnb = GaussianNB()\n",
    "y_pred = gnb.fit(X_train, y_train).predict(X_test)"
   ],
   "metadata": {
    "collapsed": false
   }
  },
  {
   "cell_type": "code",
   "execution_count": 12,
   "outputs": [
    {
     "data": {
      "text/plain": "0.7737556561085973"
     },
     "execution_count": 12,
     "metadata": {},
     "output_type": "execute_result"
    }
   ],
   "source": [
    "accuracy_score(y_test,y_pred)"
   ],
   "metadata": {
    "collapsed": false
   }
  },
  {
   "cell_type": "code",
   "execution_count": 13,
   "outputs": [],
   "source": [
    "glass_df = pd.read_csv(\"Dataset/glass.csv\")\n"
   ],
   "metadata": {
    "collapsed": false
   }
  },
  {
   "cell_type": "code",
   "execution_count": 14,
   "outputs": [],
   "source": [
    "y=glass_df[\"Type\"]\n",
    "X=glass_df.drop([\"Type\"],axis=1)"
   ],
   "metadata": {
    "collapsed": false
   }
  },
  {
   "cell_type": "code",
   "execution_count": 15,
   "outputs": [
    {
     "name": "stdout",
     "output_type": "stream",
     "text": [
      "<class 'pandas.core.frame.DataFrame'>\n",
      "RangeIndex: 214 entries, 0 to 213\n",
      "Data columns (total 10 columns):\n",
      " #   Column  Non-Null Count  Dtype  \n",
      "---  ------  --------------  -----  \n",
      " 0   RI      214 non-null    float64\n",
      " 1   Na      214 non-null    float64\n",
      " 2   Mg      214 non-null    float64\n",
      " 3   Al      214 non-null    float64\n",
      " 4   Si      214 non-null    float64\n",
      " 5   K       214 non-null    float64\n",
      " 6   Ca      214 non-null    float64\n",
      " 7   Ba      214 non-null    float64\n",
      " 8   Fe      214 non-null    float64\n",
      " 9   Type    214 non-null    int64  \n",
      "dtypes: float64(9), int64(1)\n",
      "memory usage: 16.8 KB\n"
     ]
    }
   ],
   "source": [
    "glass_df.info()"
   ],
   "metadata": {
    "collapsed": false
   }
  },
  {
   "cell_type": "code",
   "execution_count": 16,
   "outputs": [],
   "source": [
    "X_train, X_test, y_train, y_test = train_test_split(X, y, test_size=0.25, random_state=0)\n",
    "gnb = GaussianNB()\n",
    "y_pred = gnb.fit(X_train, y_train).predict(X_test)"
   ],
   "metadata": {
    "collapsed": false
   }
  },
  {
   "cell_type": "code",
   "execution_count": 17,
   "outputs": [
    {
     "data": {
      "text/plain": "0.46296296296296297"
     },
     "execution_count": 17,
     "metadata": {},
     "output_type": "execute_result"
    }
   ],
   "source": [
    "accuracy_score(y_test,y_pred)"
   ],
   "metadata": {
    "collapsed": false
   }
  },
  {
   "cell_type": "code",
   "execution_count": 18,
   "outputs": [
    {
     "data": {
      "text/plain": "{'1': {'precision': 0.32142857142857145,\n  'recall': 0.6428571428571429,\n  'f1-score': 0.4285714285714286,\n  'support': 14},\n '2': {'precision': 0.45454545454545453,\n  'recall': 0.20833333333333334,\n  'f1-score': 0.28571428571428575,\n  'support': 24},\n '3': {'precision': 0.5,\n  'recall': 0.4,\n  'f1-score': 0.4444444444444445,\n  'support': 5},\n '5': {'precision': 0.0, 'recall': 0.0, 'f1-score': 0.0, 'support': 2},\n '6': {'precision': 0.6666666666666666,\n  'recall': 1.0,\n  'f1-score': 0.8,\n  'support': 2},\n '7': {'precision': 1.0, 'recall': 1.0, 'f1-score': 1.0, 'support': 7},\n 'accuracy': 0.46296296296296297,\n 'macro avg': {'precision': 0.49044011544011545,\n  'recall': 0.5418650793650793,\n  'f1-score': 0.4931216931216931,\n  'support': 54},\n 'weighted avg': {'precision': 0.4859708193041526,\n  'recall': 0.46296296296296297,\n  'f1-score': 0.438506760728983,\n  'support': 54}}"
     },
     "execution_count": 18,
     "metadata": {},
     "output_type": "execute_result"
    }
   ],
   "source": [
    "classification_report(y_test, y_pred,output_dict=True,zero_division=1)"
   ],
   "metadata": {
    "collapsed": false
   }
  },
  {
   "cell_type": "code",
   "execution_count": 19,
   "outputs": [
    {
     "data": {
      "text/plain": "0.25925925925925924"
     },
     "execution_count": 19,
     "metadata": {},
     "output_type": "execute_result"
    }
   ],
   "source": [
    "svc = SVC(max_iter=500000)\n",
    "y_pred = svc.fit(X_train, y_train).predict(X_test)\n",
    "accuracy_score(y_test,y_pred)"
   ],
   "metadata": {
    "collapsed": false
   }
  },
  {
   "cell_type": "code",
   "execution_count": 20,
   "outputs": [
    {
     "data": {
      "text/plain": "{'1': {'precision': 0.25925925925925924,\n  'recall': 1.0,\n  'f1-score': 0.4117647058823529,\n  'support': 14},\n '2': {'precision': 1.0, 'recall': 0.0, 'f1-score': 0.0, 'support': 24},\n '3': {'precision': 1.0, 'recall': 0.0, 'f1-score': 0.0, 'support': 5},\n '5': {'precision': 1.0, 'recall': 0.0, 'f1-score': 0.0, 'support': 2},\n '6': {'precision': 1.0, 'recall': 0.0, 'f1-score': 0.0, 'support': 2},\n '7': {'precision': 1.0, 'recall': 0.0, 'f1-score': 0.0, 'support': 7},\n 'accuracy': 0.25925925925925924,\n 'macro avg': {'precision': 0.8765432098765432,\n  'recall': 0.16666666666666666,\n  'f1-score': 0.06862745098039215,\n  'support': 54},\n 'weighted avg': {'precision': 0.8079561042524006,\n  'recall': 0.25925925925925924,\n  'f1-score': 0.10675381263616558,\n  'support': 54}}"
     },
     "execution_count": 20,
     "metadata": {},
     "output_type": "execute_result"
    }
   ],
   "source": [
    "classification_report(y_test, y_pred,output_dict=True,zero_division=1)"
   ],
   "metadata": {
    "collapsed": false
   }
  },
  {
   "cell_type": "code",
   "execution_count": 21,
   "outputs": [
    {
     "data": {
      "text/plain": "0.5925925925925926"
     },
     "execution_count": 21,
     "metadata": {},
     "output_type": "execute_result"
    }
   ],
   "source": [
    "linear_svc = LinearSVC(max_iter=500000)\n",
    "y_pred = linear_svc.fit(X_train, y_train).predict(X_test)\n",
    "accuracy_score(y_test,y_pred)"
   ],
   "metadata": {
    "collapsed": false
   }
  },
  {
   "cell_type": "code",
   "execution_count": 22,
   "outputs": [
    {
     "data": {
      "text/plain": "{'1': {'precision': 0.48,\n  'recall': 0.8571428571428571,\n  'f1-score': 0.6153846153846153,\n  'support': 14},\n '2': {'precision': 0.631578947368421,\n  'recall': 0.5,\n  'f1-score': 0.5581395348837209,\n  'support': 24},\n '3': {'precision': 1.0, 'recall': 0.0, 'f1-score': 0.0, 'support': 5},\n '5': {'precision': 0.0, 'recall': 0.0, 'f1-score': 0.0, 'support': 2},\n '6': {'precision': 0.5, 'recall': 0.5, 'f1-score': 0.5, 'support': 2},\n '7': {'precision': 1.0, 'recall': 1.0, 'f1-score': 1.0, 'support': 7},\n 'accuracy': 0.5925925925925926,\n 'macro avg': {'precision': 0.6019298245614034,\n  'recall': 0.4761904761904762,\n  'f1-score': 0.445587358378056,\n  'support': 54},\n 'weighted avg': {'precision': 0.6458869395711502,\n  'recall': 0.5925925925925926,\n  'f1-score': 0.5557543231961837,\n  'support': 54}}"
     },
     "execution_count": 22,
     "metadata": {},
     "output_type": "execute_result"
    }
   ],
   "source": [
    "classification_report(y_test, y_pred,output_dict=True,zero_division=1)"
   ],
   "metadata": {
    "collapsed": false
   }
  },
  {
   "cell_type": "code",
   "execution_count": 23,
   "outputs": [
    {
     "data": {
      "text/plain": "<pandas.io.formats.style.Styler at 0x7fe490136a30>",
      "text/html": "<style type=\"text/css\">\n#T_73ba0_row0_col0, #T_73ba0_row1_col1, #T_73ba0_row2_col2, #T_73ba0_row3_col3, #T_73ba0_row4_col4, #T_73ba0_row5_col5, #T_73ba0_row6_col6, #T_73ba0_row7_col7, #T_73ba0_row8_col8, #T_73ba0_row9_col9 {\n  background-color: #08306b;\n  color: #f1f1f1;\n}\n#T_73ba0_row0_col1 {\n  background-color: #eaf3fb;\n  color: #000000;\n}\n#T_73ba0_row0_col2 {\n  background-color: #a4cce3;\n  color: #000000;\n}\n#T_73ba0_row0_col3 {\n  background-color: #eef5fc;\n  color: #000000;\n}\n#T_73ba0_row0_col4, #T_73ba0_row1_col8, #T_73ba0_row2_col1, #T_73ba0_row2_col3, #T_73ba0_row2_col6, #T_73ba0_row2_col7, #T_73ba0_row2_col9, #T_73ba0_row4_col0, #T_73ba0_row6_col1, #T_73ba0_row6_col5, #T_73ba0_row9_col2 {\n  background-color: #f7fbff;\n  color: #000000;\n}\n#T_73ba0_row0_col5 {\n  background-color: #f3f8fe;\n  color: #000000;\n}\n#T_73ba0_row0_col6 {\n  background-color: #09529d;\n  color: #f1f1f1;\n}\n#T_73ba0_row0_col7, #T_73ba0_row4_col2 {\n  background-color: #add0e6;\n  color: #000000;\n}\n#T_73ba0_row0_col8 {\n  background-color: #b3d3e8;\n  color: #000000;\n}\n#T_73ba0_row0_col9 {\n  background-color: #abd0e6;\n  color: #000000;\n}\n#T_73ba0_row1_col0, #T_73ba0_row7_col6 {\n  background-color: #cadef0;\n  color: #000000;\n}\n#T_73ba0_row1_col2, #T_73ba0_row2_col0 {\n  background-color: #bfd8ed;\n  color: #000000;\n}\n#T_73ba0_row1_col3, #T_73ba0_row5_col2 {\n  background-color: #87bddc;\n  color: #000000;\n}\n#T_73ba0_row1_col4, #T_73ba0_row9_col6 {\n  background-color: #b4d3e9;\n  color: #000000;\n}\n#T_73ba0_row1_col5, #T_73ba0_row9_col8 {\n  background-color: #eff6fc;\n  color: #000000;\n}\n#T_73ba0_row1_col6 {\n  background-color: #e0ecf8;\n  color: #000000;\n}\n#T_73ba0_row1_col7 {\n  background-color: #5ba3d0;\n  color: #f1f1f1;\n}\n#T_73ba0_row1_col9, #T_73ba0_row9_col7 {\n  background-color: #2a7ab9;\n  color: #f1f1f1;\n}\n#T_73ba0_row2_col4, #T_73ba0_row2_col5, #T_73ba0_row9_col0 {\n  background-color: #c7dcef;\n  color: #000000;\n}\n#T_73ba0_row2_col8, #T_73ba0_row4_col7 {\n  background-color: #c3daee;\n  color: #000000;\n}\n#T_73ba0_row3_col0, #T_73ba0_row5_col6 {\n  background-color: #e6f0f9;\n  color: #000000;\n}\n#T_73ba0_row3_col1 {\n  background-color: #aacfe5;\n  color: #000000;\n}\n#T_73ba0_row3_col2, #T_73ba0_row6_col3 {\n  background-color: #d9e8f5;\n  color: #000000;\n}\n#T_73ba0_row3_col4, #T_73ba0_row7_col0 {\n  background-color: #a6cee4;\n  color: #000000;\n}\n#T_73ba0_row3_col5 {\n  background-color: #6fb0d7;\n  color: #f1f1f1;\n}\n#T_73ba0_row3_col6 {\n  background-color: #deebf7;\n  color: #000000;\n}\n#T_73ba0_row3_col7, #T_73ba0_row7_col3 {\n  background-color: #3b8bc2;\n  color: #f1f1f1;\n}\n#T_73ba0_row3_col8 {\n  background-color: #dceaf6;\n  color: #000000;\n}\n#T_73ba0_row3_col9 {\n  background-color: #1c6bb0;\n  color: #f1f1f1;\n}\n#T_73ba0_row4_col1, #T_73ba0_row4_col6, #T_73ba0_row5_col0 {\n  background-color: #d7e6f5;\n  color: #000000;\n}\n#T_73ba0_row4_col3 {\n  background-color: #afd1e7;\n  color: #000000;\n}\n#T_73ba0_row4_col5 {\n  background-color: #e4eff9;\n  color: #000000;\n}\n#T_73ba0_row4_col8 {\n  background-color: #dfecf7;\n  color: #000000;\n}\n#T_73ba0_row4_col9 {\n  background-color: #66abd4;\n  color: #f1f1f1;\n}\n#T_73ba0_row5_col1 {\n  background-color: #f6faff;\n  color: #000000;\n}\n#T_73ba0_row5_col3 {\n  background-color: #5ca4d0;\n  color: #f1f1f1;\n}\n#T_73ba0_row5_col4 {\n  background-color: #cbdef1;\n  color: #000000;\n}\n#T_73ba0_row5_col7 {\n  background-color: #b5d4e9;\n  color: #000000;\n}\n#T_73ba0_row5_col8 {\n  background-color: #d2e3f3;\n  color: #000000;\n}\n#T_73ba0_row5_col9 {\n  background-color: #8cc0dd;\n  color: #000000;\n}\n#T_73ba0_row6_col0 {\n  background-color: #08509b;\n  color: #f1f1f1;\n}\n#T_73ba0_row6_col2 {\n  background-color: #d5e5f4;\n  color: #000000;\n}\n#T_73ba0_row6_col4 {\n  background-color: #cddff1;\n  color: #000000;\n}\n#T_73ba0_row6_col7 {\n  background-color: #c4daee;\n  color: #000000;\n}\n#T_73ba0_row6_col8 {\n  background-color: #b8d5ea;\n  color: #000000;\n}\n#T_73ba0_row6_col9 {\n  background-color: #89bedc;\n  color: #000000;\n}\n#T_73ba0_row7_col1 {\n  background-color: #77b5d9;\n  color: #000000;\n}\n#T_73ba0_row7_col2, #T_73ba0_row7_col8 {\n  background-color: #dae8f6;\n  color: #000000;\n}\n#T_73ba0_row7_col4 {\n  background-color: #bad6eb;\n  color: #000000;\n}\n#T_73ba0_row7_col5 {\n  background-color: #cee0f2;\n  color: #000000;\n}\n#T_73ba0_row7_col9 {\n  background-color: #206fb4;\n  color: #f1f1f1;\n}\n#T_73ba0_row8_col0 {\n  background-color: #82bbdb;\n  color: #000000;\n}\n#T_73ba0_row8_col1 {\n  background-color: #f2f8fd;\n  color: #000000;\n}\n#T_73ba0_row8_col2 {\n  background-color: #75b4d8;\n  color: #000000;\n}\n#T_73ba0_row8_col3 {\n  background-color: #bed8ec;\n  color: #000000;\n}\n#T_73ba0_row8_col4, #T_73ba0_row8_col7 {\n  background-color: #b9d6ea;\n  color: #000000;\n}\n#T_73ba0_row8_col5 {\n  background-color: #c9ddf0;\n  color: #000000;\n}\n#T_73ba0_row8_col6 {\n  background-color: #97c6df;\n  color: #000000;\n}\n#T_73ba0_row8_col9 {\n  background-color: #b0d2e7;\n  color: #000000;\n}\n#T_73ba0_row9_col1 {\n  background-color: #4695c8;\n  color: #f1f1f1;\n}\n#T_73ba0_row9_col3 {\n  background-color: #2676b8;\n  color: #f1f1f1;\n}\n#T_73ba0_row9_col4 {\n  background-color: #7fb9da;\n  color: #000000;\n}\n#T_73ba0_row9_col5 {\n  background-color: #caddf0;\n  color: #000000;\n}\n</style>\n<table id=\"T_73ba0\">\n  <thead>\n    <tr>\n      <th class=\"blank level0\" >&nbsp;</th>\n      <th id=\"T_73ba0_level0_col0\" class=\"col_heading level0 col0\" >RI</th>\n      <th id=\"T_73ba0_level0_col1\" class=\"col_heading level0 col1\" >Na</th>\n      <th id=\"T_73ba0_level0_col2\" class=\"col_heading level0 col2\" >Mg</th>\n      <th id=\"T_73ba0_level0_col3\" class=\"col_heading level0 col3\" >Al</th>\n      <th id=\"T_73ba0_level0_col4\" class=\"col_heading level0 col4\" >Si</th>\n      <th id=\"T_73ba0_level0_col5\" class=\"col_heading level0 col5\" >K</th>\n      <th id=\"T_73ba0_level0_col6\" class=\"col_heading level0 col6\" >Ca</th>\n      <th id=\"T_73ba0_level0_col7\" class=\"col_heading level0 col7\" >Ba</th>\n      <th id=\"T_73ba0_level0_col8\" class=\"col_heading level0 col8\" >Fe</th>\n      <th id=\"T_73ba0_level0_col9\" class=\"col_heading level0 col9\" >Type</th>\n    </tr>\n  </thead>\n  <tbody>\n    <tr>\n      <th id=\"T_73ba0_level0_row0\" class=\"row_heading level0 row0\" >RI</th>\n      <td id=\"T_73ba0_row0_col0\" class=\"data row0 col0\" >1.000000</td>\n      <td id=\"T_73ba0_row0_col1\" class=\"data row0 col1\" >-0.191885</td>\n      <td id=\"T_73ba0_row0_col2\" class=\"data row0 col2\" >-0.122274</td>\n      <td id=\"T_73ba0_row0_col3\" class=\"data row0 col3\" >-0.407326</td>\n      <td id=\"T_73ba0_row0_col4\" class=\"data row0 col4\" >-0.542052</td>\n      <td id=\"T_73ba0_row0_col5\" class=\"data row0 col5\" >-0.289833</td>\n      <td id=\"T_73ba0_row0_col6\" class=\"data row0 col6\" >0.810403</td>\n      <td id=\"T_73ba0_row0_col7\" class=\"data row0 col7\" >-0.000386</td>\n      <td id=\"T_73ba0_row0_col8\" class=\"data row0 col8\" >0.143010</td>\n      <td id=\"T_73ba0_row0_col9\" class=\"data row0 col9\" >-0.164237</td>\n    </tr>\n    <tr>\n      <th id=\"T_73ba0_level0_row1\" class=\"row_heading level0 row1\" >Na</th>\n      <td id=\"T_73ba0_row1_col0\" class=\"data row1 col0\" >-0.191885</td>\n      <td id=\"T_73ba0_row1_col1\" class=\"data row1 col1\" >1.000000</td>\n      <td id=\"T_73ba0_row1_col2\" class=\"data row1 col2\" >-0.273732</td>\n      <td id=\"T_73ba0_row1_col3\" class=\"data row1 col3\" >0.156794</td>\n      <td id=\"T_73ba0_row1_col4\" class=\"data row1 col4\" >-0.069809</td>\n      <td id=\"T_73ba0_row1_col5\" class=\"data row1 col5\" >-0.266087</td>\n      <td id=\"T_73ba0_row1_col6\" class=\"data row1 col6\" >-0.275442</td>\n      <td id=\"T_73ba0_row1_col7\" class=\"data row1 col7\" >0.326603</td>\n      <td id=\"T_73ba0_row1_col8\" class=\"data row1 col8\" >-0.241346</td>\n      <td id=\"T_73ba0_row1_col9\" class=\"data row1 col9\" >0.502898</td>\n    </tr>\n    <tr>\n      <th id=\"T_73ba0_level0_row2\" class=\"row_heading level0 row2\" >Mg</th>\n      <td id=\"T_73ba0_row2_col0\" class=\"data row2 col0\" >-0.122274</td>\n      <td id=\"T_73ba0_row2_col1\" class=\"data row2 col1\" >-0.273732</td>\n      <td id=\"T_73ba0_row2_col2\" class=\"data row2 col2\" >1.000000</td>\n      <td id=\"T_73ba0_row2_col3\" class=\"data row2 col3\" >-0.481799</td>\n      <td id=\"T_73ba0_row2_col4\" class=\"data row2 col4\" >-0.165927</td>\n      <td id=\"T_73ba0_row2_col5\" class=\"data row2 col5\" >0.005396</td>\n      <td id=\"T_73ba0_row2_col6\" class=\"data row2 col6\" >-0.443750</td>\n      <td id=\"T_73ba0_row2_col7\" class=\"data row2 col7\" >-0.492262</td>\n      <td id=\"T_73ba0_row2_col8\" class=\"data row2 col8\" >0.083060</td>\n      <td id=\"T_73ba0_row2_col9\" class=\"data row2 col9\" >-0.744993</td>\n    </tr>\n    <tr>\n      <th id=\"T_73ba0_level0_row3\" class=\"row_heading level0 row3\" >Al</th>\n      <td id=\"T_73ba0_row3_col0\" class=\"data row3 col0\" >-0.407326</td>\n      <td id=\"T_73ba0_row3_col1\" class=\"data row3 col1\" >0.156794</td>\n      <td id=\"T_73ba0_row3_col2\" class=\"data row3 col2\" >-0.481799</td>\n      <td id=\"T_73ba0_row3_col3\" class=\"data row3 col3\" >1.000000</td>\n      <td id=\"T_73ba0_row3_col4\" class=\"data row3 col4\" >-0.005524</td>\n      <td id=\"T_73ba0_row3_col5\" class=\"data row3 col5\" >0.325958</td>\n      <td id=\"T_73ba0_row3_col6\" class=\"data row3 col6\" >-0.259592</td>\n      <td id=\"T_73ba0_row3_col7\" class=\"data row3 col7\" >0.479404</td>\n      <td id=\"T_73ba0_row3_col8\" class=\"data row3 col8\" >-0.074402</td>\n      <td id=\"T_73ba0_row3_col9\" class=\"data row3 col9\" >0.598829</td>\n    </tr>\n    <tr>\n      <th id=\"T_73ba0_level0_row4\" class=\"row_heading level0 row4\" >Si</th>\n      <td id=\"T_73ba0_row4_col0\" class=\"data row4 col0\" >-0.542052</td>\n      <td id=\"T_73ba0_row4_col1\" class=\"data row4 col1\" >-0.069809</td>\n      <td id=\"T_73ba0_row4_col2\" class=\"data row4 col2\" >-0.165927</td>\n      <td id=\"T_73ba0_row4_col3\" class=\"data row4 col3\" >-0.005524</td>\n      <td id=\"T_73ba0_row4_col4\" class=\"data row4 col4\" >1.000000</td>\n      <td id=\"T_73ba0_row4_col5\" class=\"data row4 col5\" >-0.193331</td>\n      <td id=\"T_73ba0_row4_col6\" class=\"data row4 col6\" >-0.208732</td>\n      <td id=\"T_73ba0_row4_col7\" class=\"data row4 col7\" >-0.102151</td>\n      <td id=\"T_73ba0_row4_col8\" class=\"data row4 col8\" >-0.094201</td>\n      <td id=\"T_73ba0_row4_col9\" class=\"data row4 col9\" >0.151565</td>\n    </tr>\n    <tr>\n      <th id=\"T_73ba0_level0_row5\" class=\"row_heading level0 row5\" >K</th>\n      <td id=\"T_73ba0_row5_col0\" class=\"data row5 col0\" >-0.289833</td>\n      <td id=\"T_73ba0_row5_col1\" class=\"data row5 col1\" >-0.266087</td>\n      <td id=\"T_73ba0_row5_col2\" class=\"data row5 col2\" >0.005396</td>\n      <td id=\"T_73ba0_row5_col3\" class=\"data row5 col3\" >0.325958</td>\n      <td id=\"T_73ba0_row5_col4\" class=\"data row5 col4\" >-0.193331</td>\n      <td id=\"T_73ba0_row5_col5\" class=\"data row5 col5\" >1.000000</td>\n      <td id=\"T_73ba0_row5_col6\" class=\"data row5 col6\" >-0.317836</td>\n      <td id=\"T_73ba0_row5_col7\" class=\"data row5 col7\" >-0.042618</td>\n      <td id=\"T_73ba0_row5_col8\" class=\"data row5 col8\" >-0.007719</td>\n      <td id=\"T_73ba0_row5_col9\" class=\"data row5 col9\" >-0.010054</td>\n    </tr>\n    <tr>\n      <th id=\"T_73ba0_level0_row6\" class=\"row_heading level0 row6\" >Ca</th>\n      <td id=\"T_73ba0_row6_col0\" class=\"data row6 col0\" >0.810403</td>\n      <td id=\"T_73ba0_row6_col1\" class=\"data row6 col1\" >-0.275442</td>\n      <td id=\"T_73ba0_row6_col2\" class=\"data row6 col2\" >-0.443750</td>\n      <td id=\"T_73ba0_row6_col3\" class=\"data row6 col3\" >-0.259592</td>\n      <td id=\"T_73ba0_row6_col4\" class=\"data row6 col4\" >-0.208732</td>\n      <td id=\"T_73ba0_row6_col5\" class=\"data row6 col5\" >-0.317836</td>\n      <td id=\"T_73ba0_row6_col6\" class=\"data row6 col6\" >1.000000</td>\n      <td id=\"T_73ba0_row6_col7\" class=\"data row6 col7\" >-0.112841</td>\n      <td id=\"T_73ba0_row6_col8\" class=\"data row6 col8\" >0.124968</td>\n      <td id=\"T_73ba0_row6_col9\" class=\"data row6 col9\" >0.000952</td>\n    </tr>\n    <tr>\n      <th id=\"T_73ba0_level0_row7\" class=\"row_heading level0 row7\" >Ba</th>\n      <td id=\"T_73ba0_row7_col0\" class=\"data row7 col0\" >-0.000386</td>\n      <td id=\"T_73ba0_row7_col1\" class=\"data row7 col1\" >0.326603</td>\n      <td id=\"T_73ba0_row7_col2\" class=\"data row7 col2\" >-0.492262</td>\n      <td id=\"T_73ba0_row7_col3\" class=\"data row7 col3\" >0.479404</td>\n      <td id=\"T_73ba0_row7_col4\" class=\"data row7 col4\" >-0.102151</td>\n      <td id=\"T_73ba0_row7_col5\" class=\"data row7 col5\" >-0.042618</td>\n      <td id=\"T_73ba0_row7_col6\" class=\"data row7 col6\" >-0.112841</td>\n      <td id=\"T_73ba0_row7_col7\" class=\"data row7 col7\" >1.000000</td>\n      <td id=\"T_73ba0_row7_col8\" class=\"data row7 col8\" >-0.058692</td>\n      <td id=\"T_73ba0_row7_col9\" class=\"data row7 col9\" >0.575161</td>\n    </tr>\n    <tr>\n      <th id=\"T_73ba0_level0_row8\" class=\"row_heading level0 row8\" >Fe</th>\n      <td id=\"T_73ba0_row8_col0\" class=\"data row8 col0\" >0.143010</td>\n      <td id=\"T_73ba0_row8_col1\" class=\"data row8 col1\" >-0.241346</td>\n      <td id=\"T_73ba0_row8_col2\" class=\"data row8 col2\" >0.083060</td>\n      <td id=\"T_73ba0_row8_col3\" class=\"data row8 col3\" >-0.074402</td>\n      <td id=\"T_73ba0_row8_col4\" class=\"data row8 col4\" >-0.094201</td>\n      <td id=\"T_73ba0_row8_col5\" class=\"data row8 col5\" >-0.007719</td>\n      <td id=\"T_73ba0_row8_col6\" class=\"data row8 col6\" >0.124968</td>\n      <td id=\"T_73ba0_row8_col7\" class=\"data row8 col7\" >-0.058692</td>\n      <td id=\"T_73ba0_row8_col8\" class=\"data row8 col8\" >1.000000</td>\n      <td id=\"T_73ba0_row8_col9\" class=\"data row8 col9\" >-0.188278</td>\n    </tr>\n    <tr>\n      <th id=\"T_73ba0_level0_row9\" class=\"row_heading level0 row9\" >Type</th>\n      <td id=\"T_73ba0_row9_col0\" class=\"data row9 col0\" >-0.164237</td>\n      <td id=\"T_73ba0_row9_col1\" class=\"data row9 col1\" >0.502898</td>\n      <td id=\"T_73ba0_row9_col2\" class=\"data row9 col2\" >-0.744993</td>\n      <td id=\"T_73ba0_row9_col3\" class=\"data row9 col3\" >0.598829</td>\n      <td id=\"T_73ba0_row9_col4\" class=\"data row9 col4\" >0.151565</td>\n      <td id=\"T_73ba0_row9_col5\" class=\"data row9 col5\" >-0.010054</td>\n      <td id=\"T_73ba0_row9_col6\" class=\"data row9 col6\" >0.000952</td>\n      <td id=\"T_73ba0_row9_col7\" class=\"data row9 col7\" >0.575161</td>\n      <td id=\"T_73ba0_row9_col8\" class=\"data row9 col8\" >-0.188278</td>\n      <td id=\"T_73ba0_row9_col9\" class=\"data row9 col9\" >1.000000</td>\n    </tr>\n  </tbody>\n</table>\n"
     },
     "execution_count": 23,
     "metadata": {},
     "output_type": "execute_result"
    }
   ],
   "source": [
    "glass_df.corr().style.background_gradient(cmap=\"Blues\")"
   ],
   "metadata": {
    "collapsed": false
   }
  },
  {
   "cell_type": "code",
   "execution_count": 24,
   "outputs": [
    {
     "data": {
      "text/plain": "<AxesSubplot:ylabel='Count'>"
     },
     "execution_count": 24,
     "metadata": {},
     "output_type": "execute_result"
    },
    {
     "data": {
      "text/plain": "<Figure size 432x288 with 1 Axes>",
      "image/png": "[encoded data removed]"
     },
     "metadata": {},
     "output_type": "display_data"
    }
   ],
   "source": [
    "sns.histplot(glass_df)"
   ],
   "metadata": {
    "collapsed": false
   }
  },
  {
   "cell_type": "markdown",
   "source": [
    "On Glass Dataset:\n",
    "\n",
    "Linear SVC has the better Accuracy than SVC and Naïve Bayes method\n",
    "\n",
    "SVMs are different from other Naive Bayes algorithm because of the way they choose the decision boundary that maximizes the distance from the nearest data points of all the classes. The decision boundary created by SVMs is called the maximum margin classifier or the maximum margin hyper plane."
   ],
   "metadata": {
    "collapsed": false
   }
  }
 ],
 "metadata": {
  "kernelspec": {
   "display_name": "Python 3",
   "language": "python",
   "name": "python3"
  },
  "language_info": {
   "codemirror_mode": {
    "name": "ipython",
    "version": 2
   },
   "file_extension": ".py",
   "mimetype": "text/x-python",
   "name": "python",
   "nbconvert_exporter": "python",
   "pygments_lexer": "ipython2",
   "version": "2.7.6"
  }
 },
 "nbformat": 4,
 "nbformat_minor": 0
}
